{
 "cells": [
  {
   "cell_type": "code",
   "execution_count": 1,
   "id": "be8384d6-5317-4590-85c8-c60837393057",
   "metadata": {
    "execution": {
     "iopub.execute_input": "2024-01-04T06:58:17.604889Z",
     "iopub.status.busy": "2024-01-04T06:58:17.604632Z",
     "iopub.status.idle": "2024-01-04T06:58:18.879359Z",
     "shell.execute_reply": "2024-01-04T06:58:18.878683Z",
     "shell.execute_reply.started": "2024-01-04T06:58:17.604869Z"
    },
    "tags": []
   },
   "outputs": [],
   "source": [
    "from kSZ_forecast_general_func import *\n",
    "from kSZ_forecast_HOD import *\n",
    "%matplotlib inline\n",
    "%config InlineBackend.figure_format = 'svg'\n"
   ]
  },
  {
   "cell_type": "code",
   "execution_count": 5,
   "id": "7b535c72-1064-4499-9729-add580cd0992",
   "metadata": {
    "execution": {
     "iopub.execute_input": "2023-12-25T04:14:12.736637Z",
     "iopub.status.busy": "2023-12-25T04:14:12.736170Z",
     "iopub.status.idle": "2023-12-25T04:14:12.741270Z",
     "shell.execute_reply": "2023-12-25T04:14:12.740746Z",
     "shell.execute_reply.started": "2023-12-25T04:14:12.736608Z"
    },
    "tags": []
   },
   "outputs": [
    {
     "name": "stdout",
     "output_type": "stream",
     "text": [
      "[2.023]\n",
      "[1.028]\n",
      "[0.485]\n",
      "[0.]\n"
     ]
    }
   ],
   "source": [
    "snap_info=Snap_Info()\n",
    "for Snapshot in [1631, 2448, 3356, 5000]:\n",
    "    print(snap_info.get_redshift(Snapshot))"
   ]
  },
  {
   "cell_type": "code",
   "execution_count": 2,
   "id": "efe945aa-c776-44fe-9639-9740fa4f4eac",
   "metadata": {
    "execution": {
     "iopub.execute_input": "2024-01-04T06:58:20.360799Z",
     "iopub.status.busy": "2024-01-04T06:58:20.360258Z",
     "iopub.status.idle": "2024-01-04T07:01:07.971314Z",
     "shell.execute_reply": "2024-01-04T07:01:07.970277Z",
     "shell.execute_reply.started": "2024-01-04T06:58:20.360737Z"
    },
    "tags": []
   },
   "outputs": [
    {
     "name": "stdout",
     "output_type": "stream",
     "text": [
      "Reading /home/cossim/CosmicGrowth/6620/fof/gcatdbb02.6620.2746\n",
      "Redshift =  [0.811]\n",
      "The number of halo109049117\n",
      "ng: 109049117 nmin: 10\n",
      "Reading /home/cossim/CosmicGrowth/6620/fof/gcatdbb02.6620.2181\n",
      "Redshift =  [1.272]\n",
      "The number of halo108320064\n",
      "ng: 108320064 nmin: 10\n"
     ]
    }
   ],
   "source": [
    "for Snapshot in [2746, 2181]:\n",
    "    save_halo_np(Snapshot)"
   ]
  },
  {
   "cell_type": "markdown",
   "id": "ad6a2177-d8e8-4a8a-a7ca-ca6c3969fb3a",
   "metadata": {},
   "source": [
    "# halo mass correspond to number density"
   ]
  },
  {
   "cell_type": "code",
   "execution_count": 3,
   "id": "70f0b931-45f1-4459-bdd2-006228b69878",
   "metadata": {
    "execution": {
     "iopub.execute_input": "2024-01-04T07:02:27.498781Z",
     "iopub.status.busy": "2024-01-04T07:02:27.498289Z",
     "iopub.status.idle": "2024-01-04T07:02:58.443497Z",
     "shell.execute_reply": "2024-01-04T07:02:58.442690Z",
     "shell.execute_reply.started": "2024-01-04T07:02:27.498753Z"
    },
    "tags": []
   },
   "outputs": [
    {
     "name": "stdout",
     "output_type": "stream",
     "text": [
      "\n",
      " 2746\n",
      "[array([13.29552559, 13.07578389, 12.93738013, 12.75388786, 12.61841748,\n",
      "       12.51708179, 12.01958989, 11.64667789])]\n",
      "\n",
      " 2181\n",
      "[array([13.12538864, 12.92474522, 12.79866028, 12.62210969, 12.50280233,\n",
      "       12.41234644, 11.95202925, 11.60092039])]\n"
     ]
    }
   ],
   "source": [
    "Snapshot = 2448\n",
    "\n",
    "for Snapshot in [2746, 2181]: #1631, 2448\n",
    "    print(\"\\n\", Snapshot)\n",
    "    halox,halov, mh =ReadHalos_np(zstep=Snapshot)\n",
    "    halo_mass = mh*pm\n",
    "    lgM_h = np.log10(halo_mass)\n",
    "    n_halo =np.array([    1,     2,     3,     5,    7,     9,    30,   70])*10**-4 #8\n",
    "    N = (n_halo*1200**3).astype(np.int32)\n",
    "    lgM_h = np.sort(lgM_h)[::-1]\n",
    "    print([lgM_h[N]])\n"
   ]
  },
  {
   "cell_type": "code",
   "execution_count": 6,
   "id": "09dce5ba-a2dd-4e23-952a-2688921bdb78",
   "metadata": {
    "execution": {
     "iopub.execute_input": "2023-12-04T08:09:11.723884Z",
     "iopub.status.busy": "2023-12-04T08:09:11.723523Z",
     "iopub.status.idle": "2023-12-04T08:09:11.727440Z",
     "shell.execute_reply": "2023-12-04T08:09:11.726919Z",
     "shell.execute_reply.started": "2023-12-04T08:09:11.723860Z"
    }
   },
   "outputs": [
    {
     "name": "stdout",
     "output_type": "stream",
     "text": [
      "0.0001 13.216168839900718\n",
      "0.0002 13.006133905672922\n",
      "0.00030000000000000003 12.874050327841571\n",
      "0.0005 12.698601801598041\n",
      "0.0007 12.564708222336815\n",
      "0.0009000000000000001 12.470152114722236\n",
      "0.003 11.991070159237045\n",
      "0.007 11.628949118591503\n"
     ]
    }
   ],
   "source": [
    "for i in range(8):\n",
    "    print(n_halo[i], lgM_h[N[i]])"
   ]
  },
  {
   "cell_type": "code",
   "execution_count": 7,
   "id": "b77b753e-04b2-4c85-95dd-89933ccc2fc3",
   "metadata": {
    "execution": {
     "iopub.execute_input": "2023-12-04T08:09:42.399980Z",
     "iopub.status.busy": "2023-12-04T08:09:42.399627Z",
     "iopub.status.idle": "2023-12-04T08:09:57.988790Z",
     "shell.execute_reply": "2023-12-04T08:09:57.988030Z",
     "shell.execute_reply.started": "2023-12-04T08:09:42.399957Z"
    },
    "tags": []
   },
   "outputs": [
    {
     "name": "stdout",
     "output_type": "stream",
     "text": [
      "[12.84230083 12.66537838 12.54430498 12.39486591 12.29210015 12.2125257\n",
      " 11.80201392 11.48552698]\n",
      "0.0001 12.842300829138871\n",
      "0.0002 12.665378384218178\n",
      "0.00030000000000000003 12.544304976842376\n",
      "0.0005 12.394865912558135\n",
      "0.0007 12.292100154901027\n",
      "0.0009000000000000001 12.212525704225452\n",
      "0.003 11.802013923016997\n",
      "0.007 11.48552697628919\n"
     ]
    }
   ],
   "source": [
    "Snapshot = 1631\n",
    "halox,halov, mh =ReadHalos_np(zstep=Snapshot)\n",
    "halo_mass = mh*pm\n",
    "lgM_h = np.log10(halo_mass)\n",
    "n_halo =np.array([    1,     2,     3,     5,    7,     9,    30,   70])*10**-4 #8\n",
    "N = (n_halo*1200**3).astype(np.int32)\n",
    "lgM_h = np.sort(lgM_h)[::-1]\n",
    "print(lgM_h[N])\n",
    "for i in range(8):\n",
    "    print(n_halo[i], lgM_h[N[i]])"
   ]
  },
  {
   "cell_type": "code",
   "execution_count": null,
   "id": "a2af5d90-153c-48f5-8956-b39f16af8945",
   "metadata": {},
   "outputs": [],
   "source": []
  },
  {
   "cell_type": "code",
   "execution_count": null,
   "id": "c8d6715d-19d9-43f0-9389-d41f6bfca96b",
   "metadata": {},
   "outputs": [],
   "source": []
  },
  {
   "cell_type": "markdown",
   "id": "36142519-dac9-4857-b1fa-752941f2792d",
   "metadata": {},
   "source": [
    "# Generate CMB mock"
   ]
  },
  {
   "cell_type": "code",
   "execution_count": 3,
   "id": "9d902c9b-8ed7-4772-8ff5-4b11a4b6d80b",
   "metadata": {
    "execution": {
     "iopub.execute_input": "2023-12-25T03:14:38.755817Z",
     "iopub.status.busy": "2023-12-25T03:14:38.755378Z",
     "iopub.status.idle": "2023-12-25T03:14:38.763036Z",
     "shell.execute_reply": "2023-12-25T03:14:38.761978Z",
     "shell.execute_reply.started": "2023-12-25T03:14:38.755790Z"
    },
    "tags": []
   },
   "outputs": [
    {
     "name": "stdout",
     "output_type": "stream",
     "text": [
      "5254.070758579652 Mpc\n",
      "18.431030272494475 11 1.26\n"
     ]
    }
   ],
   "source": [
    "Grid=512\n",
    "redshift = 2.0\n",
    "print(cosmo.comoving_distance(z=redshift))\n",
    "Thelen = Boxlen/h/cosmo.comoving_distance(z=redshift).value\n",
    "print(Thelen*180/np.pi,cmbsur[0][0],cmbsur[0][1])\n",
    "for i in range(100):\n",
    "    break\n",
    "    filename = \"./CMB_maps/ACT_redshift_\"+str(np.round(redshift, 1))+\"_grid_\"+str(Grid)+\"_\"+str(i).zfill(3)+\".npy\"\n",
    "    print(filename)\n",
    "    cmb_map_act = cmb2d(thelen=Thelen, grid = Grid, Delta_T=cmbsur[0][0],sigma=cmbsur[0][1])\n",
    "    np.save(filename, cmb_map_act)\n",
    "    "
   ]
  },
  {
   "cell_type": "markdown",
   "id": "3d614f0a-b347-4f23-8c73-747b37643883",
   "metadata": {},
   "source": [
    "# Generate galaxy mock"
   ]
  },
  {
   "cell_type": "code",
   "execution_count": 2,
   "id": "c4f9ef3b-1906-412f-a933-0eb1b2e7ff03",
   "metadata": {
    "execution": {
     "iopub.execute_input": "2023-12-25T03:18:26.975234Z",
     "iopub.status.busy": "2023-12-25T03:18:26.974880Z",
     "iopub.status.idle": "2023-12-25T03:22:30.926028Z",
     "shell.execute_reply": "2023-12-25T03:22:30.924848Z",
     "shell.execute_reply.started": "2023-12-25T03:18:26.975207Z"
    },
    "tags": []
   },
   "outputs": [
    {
     "name": "stdout",
     "output_type": "stream",
     "text": [
      "Reading /home/cossim/CosmicGrowth/6620/fof/gcatdbb02.6620.1631\n",
      "Redshift =  [2.023]\n",
      "The number of halo98269902\n",
      "ng: 98269902 nmin: 10\n",
      "Reading /home/cossim/CosmicGrowth/6620/fof/gcatdbb02.6620.2448\n",
      "Redshift =  [1.028]\n",
      "The number of halo109207047\n",
      "ng: 109207047 nmin: 10\n"
     ]
    }
   ],
   "source": [
    "\n",
    "save_halo_np(1631)\n",
    "save_halo_np(2448)"
   ]
  },
  {
   "cell_type": "code",
   "execution_count": 5,
   "id": "8cc7e4d9-391a-4926-9e26-a9d6318bede2",
   "metadata": {
    "execution": {
     "iopub.execute_input": "2024-01-04T07:25:30.605680Z",
     "iopub.status.busy": "2024-01-04T07:25:30.605150Z",
     "iopub.status.idle": "2024-01-04T07:42:15.564073Z",
     "shell.execute_reply": "2024-01-04T07:42:15.563208Z",
     "shell.execute_reply.started": "2024-01-04T07:25:30.605652Z"
    },
    "tags": []
   },
   "outputs": [
    {
     "name": "stdout",
     "output_type": "stream",
     "text": [
      "[0 0 1 ... 0 0 0] [27 20 22 ...  0  0  0]\n",
      "halo_Temporary_storage/halos_2181_DESI_L0_seed100.npz\n",
      "[0 0 0 ... 0 0 0] [20 21 11 ...  0  0  0]\n",
      "halo_Temporary_storage/halos_2181_DESI_L1_seed100.npz\n",
      "[0 0 0 ... 0 0 0] [6 3 1 ... 0 0 0]\n",
      "halo_Temporary_storage/halos_2181_DESI_L2_seed100.npz\n",
      "[0 0 0 ... 0 0 0] [1 1 4 ... 0 0 0]\n",
      "halo_Temporary_storage/halos_2181_DESI_L3_seed100.npz\n",
      "[1 1 0 ... 0 0 0] [341 256 259 ...   0   0   0]\n",
      "halo_Temporary_storage/halos_2181_HSC_NB912_seed100.npz\n",
      "[1 1 1 ... 0 0 0] [168 130 155 ...   0   0   0]\n",
      "halo_Temporary_storage/halos_2181_HSC_NB816_seed100.npz\n",
      "[0 0 0 ... 0 0 0] [37 22 24 ...  0  0  0]\n",
      "halo_Temporary_storage/halos_2181_DESI_L0_seed200.npz\n",
      "[0 0 0 ... 0 0 0] [18 15 12 ...  0  0  0]\n",
      "halo_Temporary_storage/halos_2181_DESI_L1_seed200.npz\n",
      "[0 0 0 ... 0 0 0] [6 4 4 ... 0 0 0]\n",
      "halo_Temporary_storage/halos_2181_DESI_L2_seed200.npz\n",
      "[0 0 0 ... 0 0 0] [0 1 0 ... 0 0 0]\n",
      "halo_Temporary_storage/halos_2181_DESI_L3_seed200.npz\n",
      "[0 1 1 ... 0 0 0] [379 264 264 ...   0   0   0]\n",
      "halo_Temporary_storage/halos_2181_HSC_NB912_seed200.npz\n",
      "[0 1 0 ... 0 0 0] [184 129 133 ...   0   0   0]\n",
      "halo_Temporary_storage/halos_2181_HSC_NB816_seed200.npz\n",
      "[0 0 0 ... 0 0 0] [25 19 16 ...  0  0  0]\n",
      "halo_Temporary_storage/halos_2181_DESI_L0_seed300.npz\n",
      "[0 0 0 ... 0 0 0] [28 12 16 ...  0  0  0]\n",
      "halo_Temporary_storage/halos_2181_DESI_L1_seed300.npz\n",
      "[0 0 0 ... 0 0 0] [8 7 3 ... 0 0 0]\n",
      "halo_Temporary_storage/halos_2181_DESI_L2_seed300.npz\n",
      "[0 0 0 ... 0 0 0] [2 3 2 ... 0 0 0]\n",
      "halo_Temporary_storage/halos_2181_DESI_L3_seed300.npz\n",
      "[0 0 0 ... 0 0 0] [336 253 238 ...   0   0   0]\n",
      "halo_Temporary_storage/halos_2181_HSC_NB912_seed300.npz\n",
      "[0 0 0 ... 0 0 0] [201 162 147 ...   0   0   0]\n",
      "halo_Temporary_storage/halos_2181_HSC_NB816_seed300.npz\n",
      "[0 0 0 ... 0 0 0] [29 26 15 ...  0  0  0]\n",
      "halo_Temporary_storage/halos_2181_DESI_L0_seed400.npz\n",
      "[0 0 0 ... 0 0 0] [19 10 16 ...  0  0  0]\n",
      "halo_Temporary_storage/halos_2181_DESI_L1_seed400.npz\n",
      "[0 0 0 ... 0 0 0] [7 6 6 ... 0 0 0]\n",
      "halo_Temporary_storage/halos_2181_DESI_L2_seed400.npz\n",
      "[0 0 0 ... 0 0 0] [0 1 0 ... 0 0 0]\n",
      "halo_Temporary_storage/halos_2181_DESI_L3_seed400.npz\n",
      "[0 1 0 ... 0 0 0] [347 279 232 ...   0   0   0]\n",
      "halo_Temporary_storage/halos_2181_HSC_NB912_seed400.npz\n",
      "[0 0 0 ... 0 0 0] [179 158 133 ...   0   0   0]\n",
      "halo_Temporary_storage/halos_2181_HSC_NB816_seed400.npz\n"
     ]
    }
   ],
   "source": [
    "Snapshot = 2181\n",
    "halox,halov, mh =ReadHalos_np(zstep=Snapshot)\n",
    "halo_mass = mh*pm\n",
    "lgM_h = np.log10(halo_mass)\n",
    "#random_seed = 1\n",
    "for random_seed in [100, 200, 300, 400]:\n",
    "    np.random.seed(random_seed)\n",
    "    desi_models = [\"L0\", \"L1\", \"L2\", \"L3\"]\n",
    "    for i in range(4):\n",
    "        hod_desi = HOD_ELG_DESI(model = desi_models[i])\n",
    "        galaxy_cata = GalaxyCatalogueSnapshot(lgM_h = lgM_h)\n",
    "        galaxy_cata.add_galaxies(hod_desi)\n",
    "        N_cen = galaxy_cata.num_cen\n",
    "        N_sat = galaxy_cata.num_sat\n",
    "        print(N_cen, N_sat)\n",
    "\n",
    "\n",
    "        filename = \"halo_Temporary_storage/halos_\"+str(Snapshot)+\"_DESI_\"+desi_models[i]+\"_seed\"+str(random_seed)+\".npz\"\n",
    "        print(filename)\n",
    "        np.savez(filename, N_cen = N_cen, N_sat = N_sat)\n",
    "    np.random.seed(random_seed)\n",
    "    hsc_models = [\"NB912\", \"NB816\"]\n",
    "    for i in range(2):\n",
    "        hod_hsc=HOD_ELG_HSC(model = hsc_models[i])\n",
    "        galaxy_cata = GalaxyCatalogueSnapshot(lgM_h = lgM_h)\n",
    "        galaxy_cata.add_galaxies(hod_hsc) #random\n",
    "        N_cen = galaxy_cata.num_cen\n",
    "        N_sat = galaxy_cata.num_sat\n",
    "        print(N_cen, N_sat)\n",
    "\n",
    "        filename = \"halo_Temporary_storage/halos_\"+str(Snapshot)+\"_HSC_\"+hsc_models[i]+\"_seed\"+str(random_seed)+\".npz\"\n",
    "        print(filename)\n",
    "        np.savez(filename, N_cen = N_cen, N_sat = N_sat)"
   ]
  },
  {
   "cell_type": "code",
   "execution_count": 5,
   "id": "faa87b5c-4f39-4510-ae88-e2e91de1405e",
   "metadata": {
    "execution": {
     "iopub.execute_input": "2023-11-08T14:17:37.483130Z",
     "iopub.status.busy": "2023-11-08T14:17:37.482887Z",
     "iopub.status.idle": "2023-11-08T14:19:04.094488Z",
     "shell.execute_reply": "2023-11-08T14:19:04.093456Z",
     "shell.execute_reply.started": "2023-11-08T14:17:37.483114Z"
    },
    "tags": []
   },
   "outputs": [],
   "source": []
  }
 ],
 "metadata": {
  "kernelspec": {
   "display_name": "Python3.7 (sys)",
   "language": "python",
   "name": "python3.7"
  },
  "language_info": {
   "codemirror_mode": {
    "name": "ipython",
    "version": 3
   },
   "file_extension": ".py",
   "mimetype": "text/x-python",
   "name": "python",
   "nbconvert_exporter": "python",
   "pygments_lexer": "ipython3",
   "version": "3.7.10"
  }
 },
 "nbformat": 4,
 "nbformat_minor": 5
}
