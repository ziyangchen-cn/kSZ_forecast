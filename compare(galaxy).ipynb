{
 "cells": [
  {
   "cell_type": "code",
   "execution_count": 2,
   "id": "ec7b8aa2-d814-4eb0-923d-6e970a75d3ae",
   "metadata": {
    "execution": {
     "iopub.execute_input": "2023-11-14T15:01:22.571730Z",
     "iopub.status.busy": "2023-11-14T15:01:22.571381Z",
     "iopub.status.idle": "2023-11-14T15:01:22.589008Z",
     "shell.execute_reply": "2023-11-14T15:01:22.588246Z",
     "shell.execute_reply.started": "2023-11-14T15:01:22.571709Z"
    },
    "tags": []
   },
   "outputs": [],
   "source": [
    "from  scipy.special import j1\n",
    "from kSZ_forecast_general_func import *\n",
    "%matplotlib inline\n",
    "%config InlineBackend.figure_format = 'svg'\n",
    "Grid = 512\n",
    "MAS  = \"NGP\"\n",
    "Snapshot = 2448\n",
    "\n",
    "snap_info=Snap_Info()\n",
    "\n",
    "Thelen = Boxlen/h/cosmo.comoving_distance(z=snap_info.get_redshift(Snapshot)).value\n",
    "cnorm=ne0*sigma_t*Mpc2m*Boxlen*1.0/Grid*(1+snap_info.get_redshift(Snapshot))**2/h  # proj mom: km/h -> dkSZ/CMB\n",
    "\n",
    "the_los=(45)*np.pi/180\n",
    "n_rsd=np.array([np.cos(the_los),np.sin(the_los),0])\n",
    "\n",
    "if Snapshot == 1631:\n",
    "    n_gal = np.array([3, 3.3, 3.6])*10**-4\n",
    "if Snapshot == 2448:\n",
    "    n_gal = np.array([6, 6.6, 7.2])*10**-4\n",
    "n_halo =np.array([    1,     2,     3,     5,    7,     9,    30,   70])*10**-4 #8\n",
    "lgM_min=np.array([12.86, 12.68, 12.55, 12.41, 12.3, 12.23, 11.82, 11.5])"
   ]
  },
  {
   "cell_type": "code",
   "execution_count": null,
   "id": "5d1bec7e-4e13-4625-be5b-7d180e209a4d",
   "metadata": {},
   "outputs": [],
   "source": []
  },
  {
   "cell_type": "code",
   "execution_count": 7,
   "id": "1876d7fc-ff6b-4aad-8364-93007b28fecb",
   "metadata": {
    "execution": {
     "iopub.execute_input": "2023-11-09T12:49:58.021976Z",
     "iopub.status.busy": "2023-11-09T12:49:58.021330Z",
     "iopub.status.idle": "2023-11-09T12:49:58.028653Z",
     "shell.execute_reply": "2023-11-09T12:49:58.027744Z",
     "shell.execute_reply.started": "2023-11-09T12:49:58.021922Z"
    }
   },
   "outputs": [
    {
     "data": {
      "text/plain": [
       "41252.96124941928"
      ]
     },
     "execution_count": 7,
     "metadata": {},
     "output_type": "execute_result"
    }
   ],
   "source": [
    "4*np.pi*(180/np.pi)**2"
   ]
  },
  {
   "cell_type": "code",
   "execution_count": 8,
   "id": "87b0632b-4671-4d18-b651-b554b98a6244",
   "metadata": {
    "execution": {
     "iopub.execute_input": "2023-11-10T01:02:09.616768Z",
     "iopub.status.busy": "2023-11-10T01:02:09.616443Z",
     "iopub.status.idle": "2023-11-10T01:02:09.623448Z",
     "shell.execute_reply": "2023-11-10T01:02:09.622433Z",
     "shell.execute_reply.started": "2023-11-10T01:02:09.616749Z"
    },
    "tags": []
   },
   "outputs": [
    {
     "data": {
      "text/plain": [
       "1.210845584131293"
      ]
     },
     "execution_count": 8,
     "metadata": {},
     "output_type": "execute_result"
    }
   ],
   "source": [
    "def cal_survey_volume(z1,z2,fs):\n",
    "    h=0.69\n",
    "    d1=cosmo.comoving_distance(z=z1).value*h\n",
    "    d2=cosmo.comoving_distance(z=z2).value*h\n",
    "    V = 4*np.pi/3*(d2**3-d1**3)\n",
    "    f = fs/(4*np.pi*(180/np.pi)**2)\n",
    "    return f*V/10**9\n",
    "cal_survey_volume(z1=0.6, z2=1, fs=1400)"
   ]
  },
  {
   "cell_type": "code",
   "execution_count": 2,
   "id": "9905f9ff-05b9-4d51-b69e-2cbce13773fb",
   "metadata": {
    "execution": {
     "iopub.execute_input": "2023-11-09T02:33:23.829592Z",
     "iopub.status.busy": "2023-11-09T02:33:23.827737Z",
     "iopub.status.idle": "2023-11-09T02:40:11.113550Z",
     "shell.execute_reply": "2023-11-09T02:40:11.111769Z",
     "shell.execute_reply.started": "2023-11-09T02:33:23.829560Z"
    },
    "tags": []
   },
   "outputs": [],
   "source": [
    "Den_dir= \"/home/chenzy/data/denmap/den\"+MAS+\"_\"+str(Grid)+\"_\"+str(Snapshot)+\"_0\"\n",
    "Mom_dir = \"/home/chenzy/data/mommap/mom\"+MAS+\"_\"+str(Grid)+\"_\"+str(Snapshot)+\"_0\"\n",
    "momp=snap_info.get_vel_norm(Snapshot)*np.fromfile(Mom_dir, dtype=np.float32, count=3*Grid**3, sep=\"\").reshape(Grid,Grid,Grid,3)\n",
    "denp=np.fromfile(Den_dir, dtype=np.float32, count=Grid**3, sep=\"\").reshape((Grid,)*3)\n",
    "velp = momden2vel(denp, momp)\n",
    "momp = (denp-1).reshape(Grid, Grid, Grid,1)*velp\n",
    "momp_proj=proj1(momp,the_los)*cnorm"
   ]
  },
  {
   "cell_type": "code",
   "execution_count": 5,
   "id": "886fac3b-4995-42cc-bcbc-e32b731657a0",
   "metadata": {
    "execution": {
     "iopub.execute_input": "2023-11-08T14:54:31.323353Z",
     "iopub.status.busy": "2023-11-08T14:54:31.323063Z",
     "iopub.status.idle": "2023-11-08T14:54:33.056993Z",
     "shell.execute_reply": "2023-11-08T14:54:33.056276Z",
     "shell.execute_reply.started": "2023-11-08T14:54:31.323329Z"
    },
    "tags": []
   },
   "outputs": [],
   "source": [
    "cmb_map_act = cmb2d(thelen=Thelen, grid = Grid, Delta_T=cmbsur[0][0],sigma=cmbsur[0][1])"
   ]
  },
  {
   "cell_type": "code",
   "execution_count": 23,
   "id": "6a07404f-44bf-401a-9ba1-a1d7dcf5a2a8",
   "metadata": {
    "execution": {
     "iopub.execute_input": "2023-11-08T04:19:55.537949Z",
     "iopub.status.busy": "2023-11-08T04:19:55.537721Z",
     "iopub.status.idle": "2023-11-08T04:22:14.665915Z",
     "shell.execute_reply": "2023-11-08T04:22:14.664919Z",
     "shell.execute_reply.started": "2023-11-08T04:19:55.537930Z"
    },
    "tags": []
   },
   "outputs": [],
   "source": [
    "print(Snapshot, Thelen)\n",
    "for i in range(100):\n",
    "    filename = \"./CMB_maps/ACT_\"+str(Snapshot)+\"_\"+str(i).zfill(3)+\".npy\"\n",
    "    cmb_map_act = cmb2d(thelen=Thelen, grid = Grid, Delta_T=cmbsur[0][0],sigma=cmbsur[0][1])\n",
    "    np.save(filename, cmb_map_act)"
   ]
  },
  {
   "cell_type": "code",
   "execution_count": 3,
   "id": "3f164fe9-1a44-416a-bbc0-5796ba9bc735",
   "metadata": {
    "execution": {
     "iopub.execute_input": "2023-11-09T02:40:11.239627Z",
     "iopub.status.busy": "2023-11-09T02:40:11.239010Z",
     "iopub.status.idle": "2023-11-09T02:40:26.753679Z",
     "shell.execute_reply": "2023-11-09T02:40:26.752041Z",
     "shell.execute_reply.started": "2023-11-09T02:40:11.239578Z"
    },
    "tags": []
   },
   "outputs": [],
   "source": [
    "halox,halov, mh =ReadHalos_np(zstep=Snapshot)\n",
    "halo_mass = mh*pm"
   ]
  },
  {
   "cell_type": "markdown",
   "id": "aac9a61c-e3fa-4b7f-bf2f-1623b665e128",
   "metadata": {},
   "source": [
    "# stack"
   ]
  },
  {
   "cell_type": "code",
   "execution_count": 8,
   "id": "bd14634e-78da-4130-b78d-ccb0fff93fc9",
   "metadata": {
    "execution": {
     "iopub.execute_input": "2023-11-08T15:33:36.818544Z",
     "iopub.status.busy": "2023-11-08T15:33:36.818259Z",
     "iopub.status.idle": "2023-11-08T15:33:39.884379Z",
     "shell.execute_reply": "2023-11-08T15:33:39.883144Z",
     "shell.execute_reply.started": "2023-11-08T15:33:36.818524Z"
    },
    "tags": []
   },
   "outputs": [
    {
     "ename": "KeyboardInterrupt",
     "evalue": "",
     "output_type": "error",
     "traceback": [
      "\u001b[0;31m---------------------------------------------------------------------------\u001b[0m",
      "\u001b[0;31mKeyboardInterrupt\u001b[0m                         Traceback (most recent call last)",
      "\u001b[0;32m/tmp/ipykernel_343767/1225885948.py\u001b[0m in \u001b[0;36m<module>\u001b[0;34m\u001b[0m\n\u001b[1;32m      7\u001b[0m \u001b[0mN_jk\u001b[0m \u001b[0;34m=\u001b[0m \u001b[0;36m100\u001b[0m\u001b[0;34m\u001b[0m\u001b[0;34m\u001b[0m\u001b[0m\n\u001b[1;32m      8\u001b[0m \u001b[0mthe_ap\u001b[0m \u001b[0;34m=\u001b[0m \u001b[0mnp\u001b[0m\u001b[0;34m.\u001b[0m\u001b[0mlinspace\u001b[0m\u001b[0;34m(\u001b[0m\u001b[0;36m1\u001b[0m\u001b[0;34m,\u001b[0m \u001b[0;36m6\u001b[0m\u001b[0;34m,\u001b[0m \u001b[0;36m10\u001b[0m\u001b[0;34m)\u001b[0m\u001b[0;34m\u001b[0m\u001b[0;34m\u001b[0m\u001b[0m\n\u001b[0;32m----> 9\u001b[0;31m \u001b[0mhaloxx_rsd\u001b[0m\u001b[0;34m=\u001b[0m\u001b[0madd_RSD\u001b[0m\u001b[0;34m(\u001b[0m\u001b[0mhalox\u001b[0m\u001b[0;34m*\u001b[0m\u001b[0mBoxlen\u001b[0m\u001b[0;34m,\u001b[0m\u001b[0mhalov\u001b[0m\u001b[0;34m*\u001b[0m\u001b[0;34m(\u001b[0m\u001b[0;36m1\u001b[0m\u001b[0;34m+\u001b[0m\u001b[0msnap_info\u001b[0m\u001b[0;34m.\u001b[0m\u001b[0mget_redshift\u001b[0m\u001b[0;34m(\u001b[0m\u001b[0mSnapshot\u001b[0m\u001b[0;34m)\u001b[0m\u001b[0;34m)\u001b[0m\u001b[0;34m,\u001b[0m \u001b[0mn_rsd\u001b[0m\u001b[0;34m,\u001b[0m \u001b[0mcosmo\u001b[0m\u001b[0;34m.\u001b[0m\u001b[0mH\u001b[0m\u001b[0;34m(\u001b[0m\u001b[0msnap_info\u001b[0m\u001b[0;34m.\u001b[0m\u001b[0mget_redshift\u001b[0m\u001b[0;34m(\u001b[0m\u001b[0mSnapshot\u001b[0m\u001b[0;34m)\u001b[0m\u001b[0;34m)\u001b[0m\u001b[0;34m.\u001b[0m\u001b[0mvalue\u001b[0m\u001b[0;34m)\u001b[0m\u001b[0;34m%\u001b[0m\u001b[0mBoxlen\u001b[0m   \u001b[0;31m#Mpc/h\u001b[0m\u001b[0;34m\u001b[0m\u001b[0;34m\u001b[0m\u001b[0m\n\u001b[0m\u001b[1;32m     10\u001b[0m \u001b[0;34m\u001b[0m\u001b[0m\n\u001b[1;32m     11\u001b[0m \u001b[0;31m#halo sample for velocity reconstruction(for HOD_method)\u001b[0m\u001b[0;34m\u001b[0m\u001b[0;34m\u001b[0m\u001b[0;34m\u001b[0m\u001b[0m\n",
      "\u001b[0;31mKeyboardInterrupt\u001b[0m: "
     ]
    }
   ],
   "source": [
    "galaxy_number_density_label = 2\n",
    "#mass_selection_label2 = 0\n",
    "den_method = 0   #NGP\n",
    "vel_method = 0   #thetap\n",
    "HOD_model = \"HSC_NB912\"\n",
    "\n",
    "N_jk = 100\n",
    "the_ap = np.linspace(1, 6, 10)\n",
    "haloxx_rsd=add_RSD(halox*Boxlen,halov*(1+snap_info.get_redshift(Snapshot)), n_rsd, cosmo.H(snap_info.get_redshift(Snapshot)).value)%Boxlen   #Mpc/h\n",
    "    \n",
    "#halo sample for velocity reconstruction(for HOD_method)\n",
    "richness = np.load(\"./halo_Temporary_storage/halos_\"+str(Snapshot)+\"_richness_\"+HOD_model+\".npy\")\n",
    "N_gal = np.sum(richness)\n",
    "print(\"Number of galaxies\", N_gal,\"   n=\",N_gal/Boxlen**3)\n",
    "galaxy_pos = np.zeros((N_gal, 3))\n",
    "for i in range(3):\n",
    "    galaxy_pos[:,i]=np.repeat(haloxx_rsd[:,i], richness)\n",
    "\n",
    "    \n",
    "#rand to make density (for n_gal)\n",
    "N_gal_need = np.int32(n_gal[galaxy_number_density_label]*Boxlen**3)\n",
    "a = np.arange(N_gal, dtype=np.int32)\n",
    "np.random.shuffle(a)\n",
    "galaxy_pos = galaxy_pos[list(a[:N_gal_need]),:]\n",
    "N_gal = len(galaxy_pos[:,0])\n",
    "print(\"Number of galaxies\", N_gal,\"   n=\",N_gal/Boxlen**3)\n",
    "\n",
    "# for den_method\n",
    "if den_method == 0:\n",
    "    deng_rsd=den_NGP(galaxy_pos,Grid)\n",
    "    \n",
    "#for vel_method\n",
    "if vel_method == 0:\n",
    "    thetap = vel2theta(velp, Boxlen)\n",
    "    W,kx,ky,kz=wiener_filter_theta_esti(deng_rsd,thetap, Boxlen)\n",
    "    #del thetap\n",
    "    thetag_rsd_rec=wiener_filter_den2theta(deng_rsd,W,kx,ky,kz, Boxlen)\n",
    "    #del W,kx,ky,kz\n",
    "    velg_rsd_rec=theta2vel(thetag_rsd_rec, Boxlen)\n",
    "\n",
    "for j in range(5,8):\n",
    "    mass_selection_label2 = j\n",
    "    lgM_min2 = lgM_min[mass_selection_label2]\n",
    "    label2 = np.where(halo_mass>10**lgM_min2)[0]\n",
    "    n_halo2 = n_halo[mass_selection_label2]\n",
    "    print(\"Halo sample to stack: n = \"+str(n_halo2*10**4)+\"$10^{-4}$ lgM_min \"+str(lgM_min2))\n",
    "    #'''\n",
    "    for k in tqdm(range(30, 50)):\n",
    "        filename = \"/home/chenzy/code/kSZ_forecast/stack_prediction_results/S\"+str(Snapshot)+\"G\"+str(Grid)+\"_gal_\"+HOD_model+\"_den\"+str(den_method)+\"vel\"+str(vel_method)+\"l\"+str(galaxy_number_density_label)+\"l\"+str(mass_selection_label2)+\"ACT\"+str(k).zfill(3)\n",
    "        print(filename)\n",
    "        cmb_map_act = np.load(\"./CMB_maps/ACT_\"+str(Snapshot)+\"_\"+str(k).zfill(3)+\".npy\")\n",
    "        stack_signal, r_true_rec, r_ksz_rec = cal_stack_kSZ_signal_proj1_jk(the_ap = the_ap, CMB_map = momp_proj+cmb_map_act, vel_rec=velg_rsd_rec, halox=halox[label2,:], halov=halov[label2, :], the_los=the_los, N_jk=N_jk, thelen=Thelen, grid = Grid)\n",
    "        stack_mean, corv = error_esti_jackknife(stack_signal)\n",
    "        C_ = pseudo_inverse(corv,2)\n",
    "        chi_null = cal_chi_square(stack_mean, stack_mean, C_)\n",
    "\n",
    "        print(\"S/N=\",np.round(np.sqrt(chi_null), 2))\n",
    "        np.savez(filename, stack_signal=stack_signal, r_true_rec =r_true_rec, r_ksz_rec=r_ksz_rec)\n",
    "    break"
   ]
  },
  {
   "cell_type": "markdown",
   "id": "506c2f32-84f9-41a8-af42-43298af86cf3",
   "metadata": {},
   "source": [
    "# tomography"
   ]
  },
  {
   "cell_type": "code",
   "execution_count": 6,
   "id": "cfd6d8e2-539c-48b4-8556-ea5b857550b4",
   "metadata": {
    "execution": {
     "iopub.execute_input": "2023-11-09T05:46:36.900916Z",
     "iopub.status.busy": "2023-11-09T05:46:36.900345Z",
     "iopub.status.idle": "2023-11-09T06:17:10.162828Z",
     "shell.execute_reply": "2023-11-09T06:17:10.161707Z",
     "shell.execute_reply.started": "2023-11-09T05:46:36.900828Z"
    },
    "tags": []
   },
   "outputs": [
    {
     "name": "stdout",
     "output_type": "stream",
     "text": [
      "read DEN, MOM\n",
      "read halo\n",
      "Number of galaxies 19300095    n= 0.011169036458333333\n",
      "Number of galaxies 691200    n= 0.0004\n",
      "S/N 4.628373059814749\n",
      "Number of galaxies 19300095    n= 0.011169036458333333\n",
      "Number of galaxies 760320    n= 0.00044\n",
      "S/N 5.135167798622237\n",
      "Number of galaxies 19300095    n= 0.011169036458333333\n",
      "Number of galaxies 829440    n= 0.00048\n",
      "S/N 5.4086076120117745\n"
     ]
    }
   ],
   "source": [
    "Grid = 512\n",
    "Snapshot = 2448\n",
    "Thelen = Boxlen/h/cosmo.comoving_distance(z=snap_info.get_redshift(Snapshot)).value\n",
    "cnorm=ne0*sigma_t*Mpc2m*Boxlen*1.0/Grid*(1+snap_info.get_redshift(Snapshot))**2/h  # proj mom: km/h -> dkSZ/CMB\n",
    "\n",
    "if Snapshot == 1631:\n",
    "    n_gal = np.array([3, 3.3, 3.6])*10**-4\n",
    "if Snapshot == 2448:\n",
    "    n_gal = np.array([6, 6.6, 7.2, 4, 4.4, 4.8])*10**-4\n",
    "\n",
    "#galaxy_number_density_label = 2\n",
    "den_method = 0   #NGP\n",
    "vel_method = 0   #thetap\n",
    "CMB_survey = \"ACT\"\n",
    "#HOD_model = \"HSC_NB816\"\n",
    "HOD_model = \"DESI\"\n",
    "\n",
    "print(\"read DEN, MOM\")\n",
    "Den_dir= \"/home/chenzy/data/denmap/den\"+MAS+\"_\"+str(Grid)+\"_\"+str(Snapshot)+\"_0\"\n",
    "Mom_dir = \"/home/chenzy/data/mommap/mom\"+MAS+\"_\"+str(Grid)+\"_\"+str(Snapshot)+\"_0\"\n",
    "momp=snap_info.get_vel_norm(Snapshot)*np.fromfile(Mom_dir, dtype=np.float32, count=3*Grid**3, sep=\"\").reshape(Grid,Grid,Grid,3)\n",
    "denp=np.fromfile(Den_dir, dtype=np.float32, count=Grid**3, sep=\"\").reshape((Grid,)*3)\n",
    "velp = momden2vel(denp, momp)\n",
    "momp = (denp-1).reshape(Grid, Grid, Grid,1)*velp\n",
    "momp_proj=proj1(momp,the_los)*cnorm\n",
    "\n",
    "print(\"read halo\")\n",
    "halox,halov, mh =ReadHalos_np(zstep=Snapshot)\n",
    "halo_mass = mh*pm\n",
    "\n",
    "haloxx_rsd=add_RSD(halox*Boxlen,halov*(1+snap_info.get_redshift(Snapshot)), n_rsd, cosmo.H(snap_info.get_redshift(Snapshot)).value)%Boxlen   #Mpc/h\n",
    "\n",
    "pkden,kden=fa.CalPS(denp,Grid,mapscale=(Boxlen/Grid**2)**3,kscale=2*np.pi/Boxlen)\n",
    "velp = momden2vel(denp, momp)\n",
    "thetap = vel2theta(velp, Boxlen)\n",
    "\n",
    "for i in [3,4,5]:\n",
    "    galaxy_number_density_label = i\n",
    "    #halo sample for velocity reconstruction(for HOD_method)\n",
    "    if HOD_model == \"DESI\":\n",
    "        richness = np.zeros(len(halo_mass), dtype = np.int32)\n",
    "        for i in range(4):\n",
    "            HOD_modeli = \"DESI_L\"+str(i)\n",
    "            richness+=np.load(\"./halo_Temporary_storage/halos_\"+str(Snapshot)+\"_richness_\"+HOD_modeli+\".npy\")\n",
    "    else:\n",
    "        richness = np.load(\"./halo_Temporary_storage/halos_\"+str(Snapshot)+\"_richness_\"+HOD_model+\".npy\")\n",
    "    N_gal = np.sum(richness)\n",
    "    print(\"Number of galaxies\", N_gal,\"   n=\",N_gal/Boxlen**3)\n",
    "    galaxy_pos = np.zeros((N_gal, 3))\n",
    "    for i in range(3):\n",
    "        galaxy_pos[:,i]=np.repeat(haloxx_rsd[:,i], richness)\n",
    "\n",
    "    #rand to make density (for n_gal)\n",
    "    N_gal_need = np.int32(n_gal[galaxy_number_density_label]*Boxlen**3)\n",
    "    a = np.arange(N_gal, dtype=np.int32)\n",
    "    np.random.shuffle(a)\n",
    "    galaxy_pos = galaxy_pos[list(a[:N_gal_need]),:]\n",
    "    N_gal = len(galaxy_pos[:,0])\n",
    "    print(\"Number of galaxies\", N_gal,\"   n=\",N_gal/Boxlen**3)\n",
    "\n",
    "\n",
    "\n",
    "    deng_rsd=den_NGP(galaxy_pos,Grid)\n",
    "    W,kx,ky,kz=wiener_filter_theta_esti(deng_rsd,thetap, Boxlen)\n",
    "    #del thetap\n",
    "    thetag_rsd_rec=wiener_filter_den2theta(deng_rsd,W,kx,ky,kz, Boxlen)\n",
    "    #del W,kx,ky,kz\n",
    "    velg_rsd_rec=theta2vel(thetag_rsd_rec, Boxlen)\n",
    "\n",
    "\n",
    "    deng_rsd_fw = wiener_filter_den(deng_rsd,pkden,kden,2*np.pi/Boxlen,40*10**-4,Grid)\n",
    "\n",
    "    momg_rsd_rec=velg_rsd_rec*(deng_rsd_fw).reshape(Grid,Grid,Grid,1)\n",
    "    momg_rsd_rec_proj = proj1(momg_rsd_rec, the_los)*cnorm\n",
    "\n",
    "    cor, l = fa.CalCor2d(momg_rsd_rec_proj, momp_proj, Grid, mapscale=(Thelen/Grid**2)**2,kscale=2*np.pi/Thelen)\n",
    "    ps_rec, l = fa.CalPS2d(momg_rsd_rec_proj, Grid, mapscale=(Thelen/Grid**2)**2,kscale=2*np.pi/Thelen)\n",
    "    ps, l = fa.CalPS2d(momp_proj, Grid, mapscale=(Thelen/Grid**2)**2,kscale=2*np.pi/Thelen)\n",
    "\n",
    "    CMB_survey = \"ACT\"\n",
    "    l_array, NS, SN = SN_prediction_tomography(l=l, cor=cor, PS_rec=ps_rec, f_sky=1400/(4*np.pi*(180/np.pi)**2), CMB_survey=CMB_survey)\n",
    "    print(\"S/N\", SN)\n",
    "\n",
    "    filename = \"tomography_prediction_results/S\"+str(Snapshot)+\"G\"+str(Grid)+\"_gal_\"+HOD_model+\"_den\"+str(den_method)+\"vel\"+str(vel_method)+\"l\"+str(galaxy_number_density_label)\n",
    "    np.savez(filename, l=l, cor=cor, ps_rec=ps_rec, ps=ps, l_array=l_array, NS=NS, SN=SN)"
   ]
  },
  {
   "cell_type": "code",
   "execution_count": null,
   "id": "fac3759e-a7f9-412d-ac20-fcdc301a252e",
   "metadata": {},
   "outputs": [],
   "source": []
  },
  {
   "cell_type": "code",
   "execution_count": null,
   "id": "25800725-4143-4131-b0c6-2320c4e73c3e",
   "metadata": {},
   "outputs": [],
   "source": []
  },
  {
   "cell_type": "code",
   "execution_count": null,
   "id": "76a94333-eed7-45e3-a62b-e61a041523cf",
   "metadata": {},
   "outputs": [],
   "source": []
  },
  {
   "cell_type": "markdown",
   "id": "57df1c71-17aa-421e-842d-efbac530be99",
   "metadata": {},
   "source": [
    "# figures"
   ]
  },
  {
   "cell_type": "markdown",
   "id": "48620957-25f5-4510-a2cd-e08ad7246841",
   "metadata": {},
   "source": [
    "## stack S/N"
   ]
  },
  {
   "cell_type": "code",
   "execution_count": null,
   "id": "034b7ad8-4eb3-4f29-964b-e05b8c0b8efe",
   "metadata": {},
   "outputs": [],
   "source": [
    "import os\n",
    "n_halo =np.array([    1,     2,     3,     5,    7,     9,    30,   70])*10**-4 #8\n",
    "lgM_min=np.array([12.86, 12.68, 12.55, 12.41, 12.3, 12.23, 11.82, 11.5])\n",
    "den_method=0\n",
    "vel_method=0\n",
    "SN  = np.zeros((len(lgM_min), len(lgM_min)))\n",
    "\n",
    "Thelen = Boxlen/h/cosmo.comoving_distance(z=snap_info.get_redshift(Snapshot)).value[0]\n",
    "f_sky_factor = np.sqrt(1400/(Thelen*180/np.pi)**2)\n",
    "\n",
    "for i in range(len(lgM_min)):\n",
    "    for j in range(len(lgM_min)):\n",
    "        filename = \"stack_prediction_results/den\"+str(den_method)+\"vel\"+str(vel_method)+\"l\"+str(i)+\"l\"+str(j)+\".npz\"\n",
    "        if not os.path.exists(filename):\n",
    "            continue\n",
    "        d = np.load(filename)\n",
    "\n",
    "        stack_signal = d[\"stack_signal\"]\n",
    "        stack_null = d[\"stack_null\"]\n",
    "        stack_mean, corv = error_esti_jackknife(stack_signal)\n",
    "        C_ = pseudo_inverse(corv,2)\n",
    "        chi_null = cal_chi_square(stack_mean, stack_mean, C_)\n",
    "        SN[i, j] = np.sqrt(chi_null)\n",
    "\n",
    "        \n",
    "fig, ax = plt.subplots(figsize = (6,6))\n",
    "im = ax.imshow(SN) \n",
    "\n",
    "label_nhalo = [\"%.4f\" % number for number in n_halo]\n",
    "ax.set_xticks(np.arange(len(lgM_min)), labels=label_nhalo)\n",
    "ax.set_yticks(np.arange(len(lgM_min)), labels=label_nhalo)\n",
    "\n",
    "ax.set_ylabel(\"Halos for velocity reconstruction \\n\"+r\"$n [\\rm h/Mpc]^{3}$\",fontsize=15)\n",
    "ax.set_xlabel(\"Halos for stacking \\n\"+r\"$n [\\rm h/Mpc]^{3}$\",fontsize=15)\n",
    "\n",
    "plt.setp(ax.get_xticklabels(), rotation=45, ha=\"right\",\n",
    "         rotation_mode=\"anchor\")\n",
    "\n",
    "# Loop over data dimensions and create text annotations.\n",
    "for i in range(len(lgM_min)):\n",
    "    for j in range(len(lgM_min)):\n",
    "        text = ax.text(j, i, np.round(SN[i, j]*f_sky_factor, 2), ha=\"center\", va=\"center\", color=\"k\")\n",
    "        #print(SN[i, j], f_sky_factor, np.round(SN[i, j]*f_sky_factor, 1))\n",
    "\n",
    "ax.set_title(\"S/N prediction: stacking method\\n PFS \"+r\"$\\times$ ACT\")\n",
    "\n",
    "plt.show()"
   ]
  },
  {
   "cell_type": "markdown",
   "id": "917fe466-1d4e-4e95-a0e3-32d8d4f2e8a5",
   "metadata": {},
   "source": [
    "## stack correlation parameter"
   ]
  },
  {
   "cell_type": "code",
   "execution_count": null,
   "id": "642254af-03af-4289-bbcd-21cf9174bea2",
   "metadata": {},
   "outputs": [],
   "source": [
    "import os\n",
    "n_halo =np.array([    1,     2,     3,     5,    7,     9,    30,   70])*10**-4 #8\n",
    "lgM_min=np.array([12.86, 12.68, 12.55, 12.41, 12.3, 12.23, 11.82, 11.5])\n",
    "den_method=0\n",
    "vel_method=0\n",
    "r  = np.zeros((len(lgM_min), len(lgM_min)))\n",
    "\n",
    "Thelen = Boxlen/h/cosmo.comoving_distance(z=snap_info.get_redshift(Snapshot)).value[0]\n",
    "f_sky_factor = np.sqrt(1400/(Thelen*180/np.pi)**2)\n",
    "\n",
    "for i in [0,1,2,3,4,5,6,7]:\n",
    "    for j in range(len(lgM_min)):\n",
    "        filename = \"stack_prediction_results/den\"+str(den_method)+\"vel\"+str(vel_method)+\"l\"+str(i)+\"l\"+str(j)+\".npz\"\n",
    "        if not os.path.exists(filename):\n",
    "            continue\n",
    "        d = np.load(filename)\n",
    "        #print(filename)\n",
    "        #r[i,j] = d[\"r_ksz_rec\"][0]\n",
    "        r[i,j] = d[\"r_true_rec\"]\n",
    "\n",
    "\n",
    "        \n",
    "fig, ax = plt.subplots(figsize = (6,6))\n",
    "im = ax.imshow(r, vmin=0.75) \n",
    "print(r)\n",
    "\n",
    "label_nhalo = [\"%.4f\" % number for number in n_halo]\n",
    "ax.set_xticks(np.arange(len(lgM_min)), labels=label_nhalo)\n",
    "ax.set_yticks(np.arange(len(lgM_min)), labels=label_nhalo)\n",
    "\n",
    "ax.set_ylabel(\"Halos for velocity reconstruction \\n\"+r\"$n [\\rm h/Mpc]^{3}$\",fontsize=15)\n",
    "ax.set_xlabel(\"Halos for stacking \\n\"+r\"$n [\\rm h/Mpc]^{3}$\",fontsize=15)\n",
    "\n",
    "plt.setp(ax.get_xticklabels(), rotation=45, ha=\"right\",\n",
    "         rotation_mode=\"anchor\")\n",
    "\n",
    "# Loop over data dimensions and create text annotations.\n",
    "for i in range(len(lgM_min)):\n",
    "    for j in range(len(lgM_min)):\n",
    "        text = ax.text(j, i, np.round(r[i,j], 4), ha=\"center\", va=\"center\", color=\"k\")\n",
    "        #print(SN[i, j], f_sky_factor, np.round(SN[i, j]*f_sky_factor, 1))\n",
    "\n",
    "ax.set_title(\"Correlation parameter\")\n",
    "\n",
    "plt.show()"
   ]
  },
  {
   "cell_type": "markdown",
   "id": "413cd03d-c93e-4083-bb1b-d8afedfdff76",
   "metadata": {},
   "source": [
    "## tomography S/N"
   ]
  },
  {
   "cell_type": "code",
   "execution_count": null,
   "id": "d02eaf1d-0ef4-46ff-a687-a0836b4df1af",
   "metadata": {},
   "outputs": [],
   "source": [
    "SN = np.zeros(len(lgM_min))\n",
    "for i in range(len(lgM_min)):\n",
    "    filename = \"tomography_prediction_results/den\"+str(den_method)+\"vel\"+str(vel_method)+\"l\"+str(i)+\".npz\"\n",
    "    if not os.path.exists(filename):\n",
    "            continue\n",
    "    d = np.load(filename)\n",
    "    SN[i] = d[\"SN\"]\n",
    "    \n",
    "fig, ax = plt.subplots()\n",
    "plt.plot(n_halo, SN, '-ok')\n",
    "\n",
    "plt.setp(ax.get_xticklabels(), rotation=45, ha=\"right\",\n",
    "         rotation_mode=\"anchor\")\n",
    "ax.set_xscale(\"log\")\n",
    "label_nhalo = [\"%.4f\" % number for number in n_halo]\n",
    "ax.set_xticks(n_halo, labels=label_nhalo)\n",
    "ax.set_xlabel(\"Halos for velocity reconstruction \\n\"+r\"$n [\\rm h/cMpc]^{3}$\", fontsize=14)\n",
    "ax.set_ylabel(\"S/N\", fontsize=14)\n",
    "ax.set_title(\"S/N prediction: Tomography method\\n PFS \"+r\"$\\times$ ACT\", fontsize=14)\n",
    "ax.grid()"
   ]
  },
  {
   "cell_type": "code",
   "execution_count": 1,
   "id": "1721e640-1b8b-4149-b1cb-55bf878ae37e",
   "metadata": {
    "execution": {
     "iopub.execute_input": "2023-12-25T04:46:49.754365Z",
     "iopub.status.busy": "2023-12-25T04:46:49.754049Z",
     "iopub.status.idle": "2023-12-25T04:46:49.759003Z",
     "shell.execute_reply": "2023-12-25T04:46:49.758361Z",
     "shell.execute_reply.started": "2023-12-25T04:46:49.754343Z"
    }
   },
   "outputs": [
    {
     "data": {
      "text/plain": [
       "0.0032266377314814814"
      ]
     },
     "execution_count": 1,
     "metadata": {},
     "output_type": "execute_result"
    }
   ],
   "source": [
    "5575630/1200**3"
   ]
  },
  {
   "cell_type": "code",
   "execution_count": null,
   "id": "fe4c614d-e983-47e9-be4e-b2806b2c8b66",
   "metadata": {},
   "outputs": [],
   "source": []
  }
 ],
 "metadata": {
  "kernelspec": {
   "display_name": "Python3.7 (sys)",
   "language": "python",
   "name": "python3.7"
  },
  "language_info": {
   "codemirror_mode": {
    "name": "ipython",
    "version": 3
   },
   "file_extension": ".py",
   "mimetype": "text/x-python",
   "name": "python",
   "nbconvert_exporter": "python",
   "pygments_lexer": "ipython3",
   "version": "3.7.10"
  }
 },
 "nbformat": 4,
 "nbformat_minor": 5
}
